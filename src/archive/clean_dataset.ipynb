{
 "cells": [
  {
   "attachments": {},
   "cell_type": "markdown",
   "metadata": {},
   "source": [
    "# Clean SWED dataset"
   ]
  },
  {
   "cell_type": "code",
   "execution_count": 1,
   "metadata": {},
   "outputs": [],
   "source": [
    "#Imports\n",
    "import numpy as np\n",
    "import pandas as pd\n",
    "import matplotlib.pyplot as plt\n",
    "\n",
    "import cv2\n",
    "from PIL import Image\n",
    "from osgeo import gdal\n",
    "\n",
    "import os\n",
    "import glob\n",
    "import random\n",
    "\n",
    "from swed_utils import *"
   ]
  },
  {
   "cell_type": "code",
   "execution_count": 34,
   "metadata": {},
   "outputs": [
    {
     "name": "stdout",
     "output_type": "stream",
     "text": [
      "../../data/SWED/train/images/S2A_MSIL2A_20190427T065631_N0211_R063_T39PVL_20190427T101053_image_8_6.npy\n",
      "10779\n"
     ]
    }
   ],
   "source": [
    "\n",
    "checked = open(\"checked.txt\", \"r\")\n",
    "checked_names = checked.read().splitlines()\n",
    "checked_paths = [\"../../data/SWED/train/images/{}\".format(name) for name in checked_names]\n",
    "checked.close()\n",
    "\n",
    "print(checked_paths[0])\n",
    "print(len(checked_paths))"
   ]
  },
  {
   "cell_type": "code",
   "execution_count": 35,
   "metadata": {},
   "outputs": [
    {
     "name": "stdout",
     "output_type": "stream",
     "text": [
      "../../data/SWED/train/images/S2B_MSIL2A_20200207T113309_N0214_R080_T28PCA_20200207T132518_image_18_26.npy\n",
      "17445\n"
     ]
    }
   ],
   "source": [
    "# Load input paths\n",
    "paths = glob.glob(\"../../data/SWED/train/images/*\")\n",
    "\n",
    "# remove paths in checked.txt\n",
    "paths = [path for path in paths if path not in checked_paths]\n",
    "\n",
    "print(paths[0])\n",
    "print(len(paths))"
   ]
  },
  {
   "cell_type": "code",
   "execution_count": null,
   "metadata": {},
   "outputs": [],
   "source": []
  },
  {
   "attachments": {},
   "cell_type": "markdown",
   "metadata": {},
   "source": [
    "## Step 1: Missing data"
   ]
  },
  {
   "cell_type": "code",
   "execution_count": 36,
   "metadata": {},
   "outputs": [
    {
     "name": "stdout",
     "output_type": "stream",
     "text": [
      "2430\n"
     ]
    }
   ],
   "source": [
    "def check_img(path):\n",
    "    \"\"\"Check if image is all zeros\"\"\"\n",
    "\n",
    "    img = np.load(path)\n",
    "    test = (np.max(img) + np.min(img) != 0)\n",
    "    \n",
    "    return test\n",
    "\n",
    "# Get paths with missing data\n",
    "missing_data = [path for path in paths if not check_img(path)]\n",
    "\n",
    "print(len(missing_data))"
   ]
  },
  {
   "cell_type": "code",
   "execution_count": 11,
   "metadata": {},
   "outputs": [
    {
     "name": "stdout",
     "output_type": "stream",
     "text": [
      "../../data/SWED/train/images/S2A_MSIL2A_20191128T144731_N0213_R139_T20PLS_20191128T171514_image_20_1.npy\n"
     ]
    },
    {
     "data": {
      "image/png": "[encoded data removed]",
      "text/plain": [
       "<Figure size 720x720 with 12 Axes>"
      ]
     },
     "metadata": {
      "needs_background": "light"
     },
     "output_type": "display_data"
    }
   ],
   "source": [
    "# Plot a random image with missing data\n",
    "rint = random.randint(0,len(missing_data))\n",
    "\n",
    "# Get path\n",
    "path = missing_data[rint]\n",
    "print(path)\n",
    "\n",
    "# Load image\n",
    "img = np.load(path)\n",
    "\n",
    "# display all bands\n",
    "fig, ax = plt.subplots(3,4,figsize=(10,10))\n",
    "index = 0 \n",
    "for i in range(3):\n",
    "    for j in range(4):\n",
    "        \n",
    "        band = img[:,:,index]\n",
    "        min_band = np.min(band)\n",
    "        max_band = np.max(band)\n",
    "\n",
    "        ax[i,j].imshow(band,cmap='gray')\n",
    "        ax[i,j].set_title(\"Min: {} Max: {}\".format(min_band,max_band))\n",
    "        index += 1"
   ]
  },
  {
   "cell_type": "code",
   "execution_count": null,
   "metadata": {},
   "outputs": [],
   "source": [
    "28224 - 2430 - 66"
   ]
  },
  {
   "cell_type": "code",
   "execution_count": 4,
   "metadata": {},
   "outputs": [
    {
     "ename": "NameError",
     "evalue": "name 'missing_data' is not defined",
     "output_type": "error",
     "traceback": [
      "\u001b[0;31m---------------------------------------------------------------------------\u001b[0m",
      "\u001b[0;31mNameError\u001b[0m                                 Traceback (most recent call last)",
      "\u001b[1;32m/Users/conorosullivan/Documents/git/COASTAL MONITORING/interpreting-coastline-unet/src/clean_dataset.ipynb Cell 7\u001b[0m in \u001b[0;36m<cell line: 2>\u001b[0;34m()\u001b[0m\n\u001b[1;32m      <a href='vscode-notebook-cell:/Users/conorosullivan/Documents/git/COASTAL%20MONITORING/interpreting-coastline-unet/src/clean_dataset.ipynb#X13sZmlsZQ%3D%3D?line=0'>1</a>\u001b[0m \u001b[39m#Save names of images with missing data\u001b[39;00m\n\u001b[0;32m----> <a href='vscode-notebook-cell:/Users/conorosullivan/Documents/git/COASTAL%20MONITORING/interpreting-coastline-unet/src/clean_dataset.ipynb#X13sZmlsZQ%3D%3D?line=1'>2</a>\u001b[0m missing_data_names \u001b[39m=\u001b[39m [path\u001b[39m.\u001b[39msplit(\u001b[39m\"\u001b[39m\u001b[39m/\u001b[39m\u001b[39m\"\u001b[39m)[\u001b[39m-\u001b[39m\u001b[39m1\u001b[39m] \u001b[39mfor\u001b[39;00m path \u001b[39min\u001b[39;00m missing_data]\n\u001b[1;32m      <a href='vscode-notebook-cell:/Users/conorosullivan/Documents/git/COASTAL%20MONITORING/interpreting-coastline-unet/src/clean_dataset.ipynb#X13sZmlsZQ%3D%3D?line=3'>4</a>\u001b[0m \u001b[39m# Save names of images with missing data    \u001b[39;00m\n\u001b[1;32m      <a href='vscode-notebook-cell:/Users/conorosullivan/Documents/git/COASTAL%20MONITORING/interpreting-coastline-unet/src/clean_dataset.ipynb#X13sZmlsZQ%3D%3D?line=4'>5</a>\u001b[0m \u001b[39mwith\u001b[39;00m \u001b[39mopen\u001b[39m(\u001b[39m\"\u001b[39m\u001b[39mmissing_data.txt\u001b[39m\u001b[39m\"\u001b[39m, \u001b[39m\"\u001b[39m\u001b[39mw\u001b[39m\u001b[39m\"\u001b[39m) \u001b[39mas\u001b[39;00m f:\n",
      "\u001b[0;31mNameError\u001b[0m: name 'missing_data' is not defined"
     ]
    }
   ],
   "source": [
    "#Save names of images with missing data\n",
    "missing_data_names = [path.split(\"/\")[-1] for path in missing_data]\n",
    "\n",
    "# Save names of images with missing data    \n",
    "with open(\"missing_data.txt\", \"w\") as f:\n",
    "    for name in missing_data_names:\n",
    "        f.write(name + \"\\n\")"
   ]
  },
  {
   "attachments": {},
   "cell_type": "markdown",
   "metadata": {},
   "source": [
    "## Step 2: All land masks \n"
   ]
  },
  {
   "cell_type": "code",
   "execution_count": 47,
   "metadata": {},
   "outputs": [
    {
     "name": "stdout",
     "output_type": "stream",
     "text": [
      "8851\n",
      "8851\n"
     ]
    }
   ],
   "source": [
    "def check_mask(path):\n",
    "    \"\"\"Check if mask is all zeros\"\"\"\n",
    "\n",
    "    mask_path = path.replace(\"images\",\"labels\").replace(\"image\",\"chip\")\n",
    "    mask = np.load(mask_path)\n",
    "\n",
    "    test = (np.max(mask) ==1) & (np.min(mask) ==0)\n",
    "    \n",
    "    return test\n",
    "\n",
    "# Get paths where mask is all zeros\n",
    "masks_0 = [path for path in paths if check_mask(path)]\n",
    "print(len(masks_0))\n",
    "\n",
    "# Remove paths with missing data\n",
    "masks_0 = [path for path in masks_0 if path not in missing_data]\n",
    "print(len(masks_0))"
   ]
  },
  {
   "cell_type": "code",
   "execution_count": 31,
   "metadata": {},
   "outputs": [
    {
     "name": "stdout",
     "output_type": "stream",
     "text": [
      "313\n"
     ]
    }
   ],
   "source": [
    "# Repeate process for unclear images\n",
    "masks_0 = open(\"unclear.txt\", \"r\").read().splitlines()\n",
    "checked = open(\"checked.txt\", \"r\").read().splitlines() #paths of images that have been checked\n",
    "remove = open(\"remove.txt\", \"r\").read().splitlines() #paths of images that should be removed\n",
    "incorrect = open(\"incorrect.txt\", \"r\").read().splitlines() #paths of images that should be removed\n",
    "\n",
    "masks_0 = [path for path in masks_0 if path not in checked]\n",
    "masks_0 = [path for path in masks_0 if path not in remove]\n",
    "masks_0 = [path for path in masks_0 if path not in incorrect]\n",
    "\n",
    "\n",
    "masks_0 = [\"../../data/SWED/train/images/{}\".format(name) for name in masks_0]\n",
    "print(len(masks_0))"
   ]
  },
  {
   "cell_type": "code",
   "execution_count": 55,
   "metadata": {},
   "outputs": [
    {
     "name": "stdout",
     "output_type": "stream",
     "text": [
      "../../data/SWED/train/images/S2A_MSIL2A_20191222T125301_N0213_R052_T24MXV_20191222T144240_image_16_38.npy\n"
     ]
    }
   ],
   "source": [
    "# Plot a random image with all zeros mask\n",
    "rint = random.randint(0,len(masks_0))\n",
    "\n",
    "# Get path\n",
    "path = masks_0[rint]\n",
    "print(path)\n",
    "\n",
    "plot_label(path)"
   ]
  },
  {
   "cell_type": "code",
   "execution_count": 33,
   "metadata": {},
   "outputs": [],
   "source": [
    "def get_rgb2(img):\n",
    "    \"\"\"Return normalized RGB channels from sentinal image\"\"\"\n",
    "    \n",
    "    rgb_img = img[:, :, [3,2,1]]\n",
    "    rgb_1 = np.clip(rgb_img/10000, 0, 0.4)/0.4\n",
    "    rgb_2 = np.clip(rgb_img/10000, 0, 0.3)/0.3\n",
    "\n",
    "    rgb_3 = np.clip(rgb_img/10000, 0, 0.2)/0.2\n",
    "    rgb_4 = np.clip(rgb_img/10000, 0, 0.1)/0.1\n",
    "    \n",
    "    return rgb_1,rgb_2,rgb_3,rgb_4\n",
    "\n",
    "\n",
    "def onpress(event):\n",
    "    global img_path \n",
    "    global incorrect\n",
    "    global unclear\n",
    "    #global checked\n",
    "    global remove\n",
    "    \n",
    "    #Get key \n",
    "    key = event.key\n",
    "    \n",
    "    #Get image name\n",
    "    path = img_path[0]\n",
    "    \n",
    "    if key not in [\"w\",\"l\",\"x\"]:\n",
    "        print(\"Invalid Key\")\n",
    "    else: \n",
    "        checked.append(path)\n",
    "        \n",
    "        if key == \"w\":\n",
    "            incorrect.append(path)\n",
    "            print(\"WATER: \" + path)\n",
    "            \n",
    "        elif key == \"x\":\n",
    "            remove.append(path)\n",
    "            #unclear.append(\"UNCLEAR: \" + path)\n",
    "        \n",
    "        # Clear plot \n",
    "        plt.close('all')\n",
    "\n",
    "        if len(img_path) > 0: \n",
    "            \n",
    "            img_path = img_path[1:]\n",
    "            path = img_path[0]\n",
    "            img, rgb_img, label = load_train(path)\n",
    "            rgb1, rgb2, rgb3, rgb4 = get_rgb2(img)\n",
    "      \n",
    "            min_label = np.min(label)\n",
    "            max_label = np.max(label)\n",
    "\n",
    "            fig,axs = plt.subplots(2,2,figsize=(15,15))\n",
    "            fig.canvas.mpl_connect('key_press_event', onpress)\n",
    "\n",
    "            #Load first image and add count\n",
    "            axs[0,0].imshow(rgb1)\n",
    "            axs[0,0].text(0, 15, len(img_path),color='r',size=20)\n",
    "            axs[0,1].imshow(rgb2)\n",
    "            axs[1,0].imshow(rgb3)\n",
    "            axs[1,1].imshow(rgb4)\n",
    "\n",
    "\n",
    "            \"\"\"axs[1,1].imshow(label,cmap=\"BrBG\")\n",
    "            axs[1,1].set_title(\"Min: {} Max: {}\".format(min_label,max_label))\n",
    "            axs[1,1].text(0, 15, len(img_path),color='r',size=20)\"\"\"\n",
    "\n",
    "            \n",
    "            plt.show()"
   ]
  },
  {
   "cell_type": "code",
   "execution_count": 34,
   "metadata": {},
   "outputs": [
    {
     "name": "stdout",
     "output_type": "stream",
     "text": [
      "WATER: ../../data/SWED/train/images/S2A_MSIL2A_20180607T104021_N0208_R008_T31UFV_20180607T132721_image_31_30.npy\n",
      "WATER: ../../data/SWED/train/images/S2A_MSIL2A_20180607T104021_N0208_R008_T31UFV_20180607T132721_image_23_27.npy\n",
      "WATER: ../../data/SWED/train/images/S2A_MSIL2A_20180607T104021_N0208_R008_T31UFV_20180607T132721_image_15_40.npy\n",
      "WATER: ../../data/SWED/train/images/S2A_MSIL2A_20180607T104021_N0208_R008_T31UFV_20180607T132721_image_27_25.npy\n",
      "WATER: ../../data/SWED/train/images/S2A_MSIL2A_20180607T104021_N0208_R008_T31UFV_20180607T132721_image_23_40.npy\n",
      "WATER: ../../data/SWED/train/images/S2A_MSIL2A_20180607T104021_N0208_R008_T31UFV_20180607T132721_image_11_31.npy\n",
      "WATER: ../../data/SWED/train/images/S2A_MSIL2A_20180607T104021_N0208_R008_T31UFV_20180607T132721_image_18_29.npy\n",
      "WATER: ../../data/SWED/train/images/S2A_MSIL2A_20180607T104021_N0208_R008_T31UFV_20180607T132721_image_27_24.npy\n",
      "WATER: ../../data/SWED/train/images/S2A_MSIL2A_20180607T104021_N0208_R008_T31UFV_20180607T132721_image_35_23.npy\n",
      "WATER: ../../data/SWED/train/images/S2A_MSIL2A_20180607T104021_N0208_R008_T31UFV_20180607T132721_image_25_26.npy\n",
      "WATER: ../../data/SWED/train/images/S2A_MSIL2A_20180607T104021_N0208_R008_T31UFV_20180607T132721_image_25_27.npy\n",
      "WATER: ../../data/SWED/train/images/S2A_MSIL2A_20180607T104021_N0208_R008_T31UFV_20180607T132721_image_35_22.npy\n",
      "WATER: ../../data/SWED/train/images/S2A_MSIL2A_20180607T104021_N0208_R008_T31UFV_20180607T132721_image_20_29.npy\n",
      "WATER: ../../data/SWED/train/images/S2A_MSIL2A_20180607T104021_N0208_R008_T31UFV_20180607T132721_image_16_28.npy\n",
      "WATER: ../../data/SWED/train/images/S2A_MSIL2A_20180607T104021_N0208_R008_T31UFV_20180607T132721_image_18_39.npy\n",
      "WATER: ../../data/SWED/train/images/S2A_MSIL2A_20180607T104021_N0208_R008_T31UFV_20180607T132721_image_14_39.npy\n",
      "WATER: ../../data/SWED/train/images/S2A_MSIL2A_20180607T104021_N0208_R008_T31UFV_20180607T132721_image_5_30.npy\n",
      "WATER: ../../data/SWED/train/images/S2A_MSIL2A_20180607T104021_N0208_R008_T31UFV_20180607T132721_image_17_40.npy\n",
      "WATER: ../../data/SWED/train/images/S2A_MSIL2A_20180607T104021_N0208_R008_T31UFV_20180607T132721_image_1_40.npy\n",
      "WATER: ../../data/SWED/train/images/S2A_MSIL2A_20180607T104021_N0208_R008_T31UFV_20180607T132721_image_1_41.npy\n",
      "WATER: ../../data/SWED/train/images/S2A_MSIL2A_20180607T104021_N0208_R008_T31UFV_20180607T132721_image_21_40.npy\n",
      "WATER: ../../data/SWED/train/images/S2A_MSIL2A_20180607T104021_N0208_R008_T31UFV_20180607T132721_image_0_29.npy\n",
      "WATER: ../../data/SWED/train/images/S2A_MSIL2A_20180607T104021_N0208_R008_T31UFV_20180607T132721_image_12_40.npy\n",
      "WATER: ../../data/SWED/train/images/S2A_MSIL2A_20180607T104021_N0208_R008_T31UFV_20180607T132721_image_4_40.npy\n",
      "WATER: ../../data/SWED/train/images/S2A_MSIL2A_20180607T104021_N0208_R008_T31UFV_20180607T132721_image_20_31.npy\n",
      "WATER: ../../data/SWED/train/images/S2A_MSIL2A_20180607T104021_N0208_R008_T31UFV_20180607T132721_image_20_25.npy\n",
      "WATER: ../../data/SWED/train/images/S2A_MSIL2A_20180607T104021_N0208_R008_T31UFV_20180607T132721_image_11_39.npy\n",
      "WATER: ../../data/SWED/train/images/S2A_MSIL2A_20180607T104021_N0208_R008_T31UFV_20180607T132721_image_7_39.npy\n",
      "WATER: ../../data/SWED/train/images/S2A_MSIL2A_20180607T104021_N0208_R008_T31UFV_20180607T132721_image_2_35.npy\n",
      "WATER: ../../data/SWED/train/images/S2A_MSIL2A_20180607T104021_N0208_R008_T31UFV_20180607T132721_image_22_34.npy\n",
      "WATER: ../../data/SWED/train/images/S2A_MSIL2A_20180607T104021_N0208_R008_T31UFV_20180607T132721_image_22_35.npy\n",
      "WATER: ../../data/SWED/train/images/S2A_MSIL2A_20180607T104021_N0208_R008_T31UFV_20180607T132721_image_41_21.npy\n",
      "WATER: ../../data/SWED/train/images/S2A_MSIL2A_20180607T104021_N0208_R008_T31UFV_20180607T132721_image_24_40.npy\n",
      "WATER: ../../data/SWED/train/images/S2A_MSIL2A_20180607T104021_N0208_R008_T31UFV_20180607T132721_image_20_30.npy\n",
      "WATER: ../../data/SWED/train/images/S2A_MSIL2A_20180607T104021_N0208_R008_T31UFV_20180607T132721_image_4_41.npy\n",
      "WATER: ../../data/SWED/train/images/S2A_MSIL2A_20180607T104021_N0208_R008_T31UFV_20180607T132721_image_20_26.npy\n",
      "WATER: ../../data/SWED/train/images/S2A_MSIL2A_20180607T104021_N0208_R008_T31UFV_20180607T132721_image_20_32.npy\n",
      "WATER: ../../data/SWED/train/images/S2A_MSIL2A_20180607T104021_N0208_R008_T31UFV_20180607T132721_image_16_27.npy\n",
      "WATER: ../../data/SWED/train/images/S2A_MSIL2A_20180607T104021_N0208_R008_T31UFV_20180607T132721_image_18_36.npy\n",
      "WATER: ../../data/SWED/train/images/S2A_MSIL2A_20180607T104021_N0208_R008_T31UFV_20180607T132721_image_22_36.npy\n",
      "WATER: ../../data/SWED/train/images/S2A_MSIL2A_20180607T104021_N0208_R008_T31UFV_20180607T132721_image_41_22.npy\n",
      "WATER: ../../data/SWED/train/images/S2A_MSIL2A_20180607T104021_N0208_R008_T31UFV_20180607T132721_image_18_37.npy\n",
      "WATER: ../../data/SWED/train/images/S2A_MSIL2A_20180607T104021_N0208_R008_T31UFV_20180607T132721_image_16_26.npy\n",
      "WATER: ../../data/SWED/train/images/S2A_MSIL2A_20180607T104021_N0208_R008_T31UFV_20180607T132721_image_20_27.npy\n",
      "WATER: ../../data/SWED/train/images/S2A_MSIL2A_20180607T104021_N0208_R008_T31UFV_20180607T132721_image_20_37.npy\n",
      "WATER: ../../data/SWED/train/images/S2A_MSIL2A_20180607T104021_N0208_R008_T31UFV_20180607T132721_image_18_27.npy\n",
      "WATER: ../../data/SWED/train/images/S2A_MSIL2A_20180607T104021_N0208_R008_T31UFV_20180607T132721_image_18_33.npy\n",
      "WATER: ../../data/SWED/train/images/S2A_MSIL2A_20180607T104021_N0208_R008_T31UFV_20180607T132721_image_0_36.npy\n",
      "WATER: ../../data/SWED/train/images/S2A_MSIL2A_20180607T104021_N0208_R008_T31UFV_20180607T132721_image_16_36.npy\n",
      "WATER: ../../data/SWED/train/images/S2A_MSIL2A_20180607T104021_N0208_R008_T31UFV_20180607T132721_image_2_33.npy\n",
      "WATER: ../../data/SWED/train/images/S2A_MSIL2A_20180607T104021_N0208_R008_T31UFV_20180607T132721_image_14_33.npy\n",
      "WATER: ../../data/SWED/train/images/S2A_MSIL2A_20180607T104021_N0208_R008_T31UFV_20180607T132721_image_14_27.npy\n",
      "WATER: ../../data/SWED/train/images/S2A_MSIL2A_20180607T104021_N0208_R008_T31UFV_20180607T132721_image_32_23.npy\n",
      "WATER: ../../data/SWED/train/images/S2A_MSIL2A_20180607T104021_N0208_R008_T31UFV_20180607T132721_image_22_26.npy\n",
      "WATER: ../../data/SWED/train/images/S2A_MSIL2A_20180607T104021_N0208_R008_T31UFV_20180607T132721_image_22_32.npy\n",
      "WATER: ../../data/SWED/train/images/S2A_MSIL2A_20180607T104021_N0208_R008_T31UFV_20180607T132721_image_22_33.npy\n",
      "WATER: ../../data/SWED/train/images/S2A_MSIL2A_20180607T104021_N0208_R008_T31UFV_20180607T132721_image_22_27.npy\n",
      "WATER: ../../data/SWED/train/images/S2A_MSIL2A_20180607T104021_N0208_R008_T31UFV_20180607T132721_image_14_26.npy\n",
      "WATER: ../../data/SWED/train/images/S2A_MSIL2A_20180607T104021_N0208_R008_T31UFV_20180607T132721_image_14_32.npy\n",
      "WATER: ../../data/SWED/train/images/S2A_MSIL2A_20180607T104021_N0208_R008_T31UFV_20180607T132721_image_2_32.npy\n",
      "WATER: ../../data/SWED/train/images/S2A_MSIL2A_20180607T104021_N0208_R008_T31UFV_20180607T132721_image_16_37.npy\n",
      "WATER: ../../data/SWED/train/images/S2A_MSIL2A_20180607T104021_N0208_R008_T31UFV_20180607T132721_image_0_37.npy\n",
      "WATER: ../../data/SWED/train/images/S2A_MSIL2A_20180607T104021_N0208_R008_T31UFV_20180607T132721_image_18_32.npy\n",
      "WATER: ../../data/SWED/train/images/S2A_MSIL2A_20180607T104021_N0208_R008_T31UFV_20180607T132721_image_18_26.npy\n",
      "WATER: ../../data/SWED/train/images/S2A_MSIL2A_20180607T104021_N0208_R008_T31UFV_20180607T132721_image_20_36.npy\n",
      "WATER: ../../data/SWED/train/images/S2A_MSIL2A_20180607T104021_N0208_R008_T31UFV_20180607T132721_image_20_34.npy\n",
      "WATER: ../../data/SWED/train/images/S2A_MSIL2A_20180607T104021_N0208_R008_T31UFV_20180607T132721_image_7_28.npy\n",
      "WATER: ../../data/SWED/train/images/S2A_MSIL2A_20180607T104021_N0208_R008_T31UFV_20180607T132721_image_11_28.npy\n",
      "WATER: ../../data/SWED/train/images/S2A_MSIL2A_20180607T104021_N0208_R008_T31UFV_20180607T132721_image_0_35.npy\n",
      "WATER: ../../data/SWED/train/images/S2A_MSIL2A_20180607T104021_N0208_R008_T31UFV_20180607T132721_image_16_35.npy\n",
      "WATER: ../../data/SWED/train/images/S2A_MSIL2A_20180607T104021_N0208_R008_T31UFV_20180607T132721_image_13_39.npy\n",
      "WATER: ../../data/SWED/train/images/S2A_MSIL2A_20180607T104021_N0208_R008_T31UFV_20180607T132721_image_5_39.npy\n",
      "WATER: ../../data/SWED/train/images/S2A_MSIL2A_20180607T104021_N0208_R008_T31UFV_20180607T132721_image_2_30.npy\n",
      "WATER: ../../data/SWED/train/images/S2A_MSIL2A_20180607T104021_N0208_R008_T31UFV_20180607T132721_image_14_30.npy\n",
      "WATER: ../../data/SWED/train/images/S2A_MSIL2A_20180607T104021_N0208_R008_T31UFV_20180607T132721_image_10_40.npy\n",
      "WATER: ../../data/SWED/train/images/S2A_MSIL2A_20180607T104021_N0208_R008_T31UFV_20180607T132721_image_6_40.npy\n",
      "WATER: ../../data/SWED/train/images/S2A_MSIL2A_20180607T104021_N0208_R008_T31UFV_20180607T132721_image_22_31.npy\n",
      "WATER: ../../data/SWED/train/images/S2A_MSIL2A_20180607T104021_N0208_R008_T31UFV_20180607T132721_image_22_25.npy\n",
      "WATER: ../../data/SWED/train/images/S2A_MSIL2A_20180607T104021_N0208_R008_T31UFV_20180607T132721_image_22_24.npy\n",
      "WATER: ../../data/SWED/train/images/S2A_MSIL2A_20180607T104021_N0208_R008_T31UFV_20180607T132721_image_6_41.npy\n",
      "WATER: ../../data/SWED/train/images/S2A_MSIL2A_20180607T104021_N0208_R008_T31UFV_20180607T132721_image_10_41.npy\n",
      "WATER: ../../data/SWED/train/images/S2A_MSIL2A_20180607T104021_N0208_R008_T31UFV_20180607T132721_image_5_38.npy\n",
      "WATER: ../../data/SWED/train/images/S2A_MSIL2A_20180607T104021_N0208_R008_T31UFV_20180607T132721_image_14_31.npy\n",
      "WATER: ../../data/SWED/train/images/S2A_MSIL2A_20180607T104021_N0208_R008_T31UFV_20180607T132721_image_2_31.npy\n",
      "WATER: ../../data/SWED/train/images/S2A_MSIL2A_20180607T104021_N0208_R008_T31UFV_20180607T132721_image_16_34.npy\n",
      "WATER: ../../data/SWED/train/images/S2A_MSIL2A_20180607T104021_N0208_R008_T31UFV_20180607T132721_image_11_29.npy\n",
      "WATER: ../../data/SWED/train/images/S2A_MSIL2A_20180607T104021_N0208_R008_T31UFV_20180607T132721_image_7_29.npy\n",
      "WATER: ../../data/SWED/train/images/S2A_MSIL2A_20180607T104021_N0208_R008_T31UFV_20180607T132721_image_9_38.npy\n",
      "WATER: ../../data/SWED/train/images/S2A_MSIL2A_20180607T104021_N0208_R008_T31UFV_20180607T132721_image_18_31.npy\n",
      "WATER: ../../data/SWED/train/images/S2A_MSIL2A_20180607T104021_N0208_R008_T31UFV_20180607T132721_image_20_35.npy\n",
      "WATER: ../../data/SWED/train/images/S2A_MSIL2A_20180607T104021_N0208_R008_T31UFV_20180607T132721_image_12_37.npy\n",
      "WATER: ../../data/SWED/train/images/S2A_MSIL2A_20180607T104021_N0208_R008_T31UFV_20180607T132721_image_10_32.npy\n",
      "WATER: ../../data/SWED/train/images/S2A_MSIL2A_20180607T104021_N0208_R008_T31UFV_20180607T132721_image_6_32.npy\n",
      "WATER: ../../data/SWED/train/images/S2A_MSIL2A_20180607T104021_N0208_R008_T31UFV_20180607T132721_image_8_37.npy\n",
      "WATER: ../../data/SWED/train/images/S2A_MSIL2A_20180607T104021_N0208_R008_T31UFV_20180607T132721_image_6_33.npy\n",
      "WATER: ../../data/SWED/train/images/S2A_MSIL2A_20180607T104021_N0208_R008_T31UFV_20180607T132721_image_10_33.npy\n",
      "WATER: ../../data/SWED/train/images/S2A_MSIL2A_20180607T104021_N0208_R008_T31UFV_20180607T132721_image_10_27.npy\n",
      "WATER: ../../data/SWED/train/images/S2A_MSIL2A_20180607T104021_N0208_R008_T31UFV_20180607T132721_image_24_23.npy\n",
      "WATER: ../../data/SWED/train/images/S2A_MSIL2A_20180607T104021_N0208_R008_T31UFV_20180607T132721_image_4_36.npy\n",
      "WATER: ../../data/SWED/train/images/S2A_MSIL2A_20180607T104021_N0208_R008_T31UFV_20180607T132721_image_12_36.npy\n",
      "WATER: ../../data/SWED/train/images/S2A_MSIL2A_20180607T104021_N0208_R008_T31UFV_20180607T132721_image_12_34.npy\n",
      "WATER: ../../data/SWED/train/images/S2A_MSIL2A_20180607T104021_N0208_R008_T31UFV_20180607T132721_image_4_34.npy\n",
      "WATER: ../../data/SWED/train/images/S2A_MSIL2A_20180607T104021_N0208_R008_T31UFV_20180607T132721_image_15_29.npy\n",
      "WATER: ../../data/SWED/train/images/S2A_MSIL2A_20180607T104021_N0208_R008_T31UFV_20180607T132721_image_3_29.npy\n",
      "WATER: ../../data/SWED/train/images/S2A_MSIL2A_20180607T104021_N0208_R008_T31UFV_20180607T132721_image_34_24.npy\n",
      "WATER: ../../data/SWED/train/images/S2A_MSIL2A_20180607T104021_N0208_R008_T31UFV_20180607T132721_image_18_41.npy\n",
      "WATER: ../../data/SWED/train/images/S2A_MSIL2A_20180607T104021_N0208_R008_T31UFV_20180607T132721_image_24_35.npy\n",
      "WATER: ../../data/SWED/train/images/S2A_MSIL2A_20180607T104021_N0208_R008_T31UFV_20180607T132721_image_2_41.npy\n",
      "WATER: ../../data/SWED/train/images/S2A_MSIL2A_20180607T104021_N0208_R008_T31UFV_20180607T132721_image_14_41.npy\n",
      "WATER: ../../data/SWED/train/images/S2A_MSIL2A_20180607T104021_N0208_R008_T31UFV_20180607T132721_image_21_39.npy\n",
      "WATER: ../../data/SWED/train/images/S2A_MSIL2A_20180607T104021_N0208_R008_T31UFV_20180607T132721_image_1_38.npy\n",
      "WATER: ../../data/SWED/train/images/S2A_MSIL2A_20180607T104021_N0208_R008_T31UFV_20180607T132721_image_17_38.npy\n",
      "WATER: ../../data/SWED/train/images/S2A_MSIL2A_20180607T104021_N0208_R008_T31UFV_20180607T132721_image_10_31.npy\n",
      "WATER: ../../data/SWED/train/images/S2A_MSIL2A_20180607T104021_N0208_R008_T31UFV_20180607T132721_image_6_31.npy\n",
      "WATER: ../../data/SWED/train/images/S2A_MSIL2A_20180607T104021_N0208_R008_T31UFV_20180607T132721_image_19_29.npy\n",
      "WATER: ../../data/SWED/train/images/S2A_MSIL2A_20180607T104021_N0208_R008_T31UFV_20180607T132721_image_8_34.npy\n",
      "WATER: ../../data/SWED/train/images/S2A_MSIL2A_20180607T104021_N0208_R008_T31UFV_20180607T132721_image_22_40.npy\n",
      "WATER: ../../data/SWED/train/images/S2A_MSIL2A_20180607T104021_N0208_R008_T31UFV_20180607T132721_image_31_28.npy\n",
      "WATER: ../../data/SWED/train/images/S2A_MSIL2A_20180607T104021_N0208_R008_T31UFV_20180607T132721_image_36_21.npy\n",
      "WATER: ../../data/SWED/train/images/S2A_MSIL2A_20180607T104021_N0208_R008_T31UFV_20180607T132721_image_22_41.npy\n",
      "WATER: ../../data/SWED/train/images/S2A_MSIL2A_20180607T104021_N0208_R008_T31UFV_20180607T132721_image_8_35.npy\n",
      "WATER: ../../data/SWED/train/images/S2A_MSIL2A_20180607T104021_N0208_R008_T31UFV_20180607T132721_image_19_28.npy\n",
      "WATER: ../../data/SWED/train/images/S2A_MSIL2A_20180607T104021_N0208_R008_T31UFV_20180607T132721_image_17_39.npy\n",
      "WATER: ../../data/SWED/train/images/S2A_MSIL2A_20180607T104021_N0208_R008_T31UFV_20180607T132721_image_1_39.npy\n",
      "WATER: ../../data/SWED/train/images/S2A_MSIL2A_20180607T104021_N0208_R008_T31UFV_20180607T132721_image_6_30.npy\n",
      "WATER: ../../data/SWED/train/images/S2A_MSIL2A_20180607T104021_N0208_R008_T31UFV_20180607T132721_image_10_30.npy\n",
      "WATER: ../../data/SWED/train/images/S2A_MSIL2A_20180607T104021_N0208_R008_T31UFV_20180607T132721_image_21_38.npy\n",
      "WATER: ../../data/SWED/train/images/S2A_MSIL2A_20180607T104021_N0208_R008_T31UFV_20180607T132721_image_14_40.npy\n",
      "WATER: ../../data/SWED/train/images/S2A_MSIL2A_20180607T104021_N0208_R008_T31UFV_20180607T132721_image_2_40.npy\n",
      "WATER: ../../data/SWED/train/images/S2A_MSIL2A_20180607T104021_N0208_R008_T31UFV_20180607T132721_image_23_29.npy\n",
      "WATER: ../../data/SWED/train/images/S2A_MSIL2A_20180607T104021_N0208_R008_T31UFV_20180607T132721_image_3_28.npy\n",
      "WATER: ../../data/SWED/train/images/S2A_MSIL2A_20180607T104021_N0208_R008_T31UFV_20180607T132721_image_15_28.npy\n",
      "WATER: ../../data/SWED/train/images/S2A_MSIL2A_20180607T104021_N0208_R008_T31UFV_20180607T132721_image_12_35.npy\n",
      "WATER: ../../data/SWED/train/images/S2A_MSIL2A_20180607T104021_N0208_R008_T31UFV_20180607T132721_image_15_38.npy\n",
      "WATER: ../../data/SWED/train/images/S2A_MSIL2A_20180607T104021_N0208_R008_T31UFV_20180607T132721_image_12_31.npy\n",
      "WATER: ../../data/SWED/train/images/S2A_MSIL2A_20180607T104021_N0208_R008_T31UFV_20180607T132721_image_4_31.npy\n",
      "WATER: ../../data/SWED/train/images/S2A_MSIL2A_20180607T104021_N0208_R008_T31UFV_20180607T132721_image_20_40.npy\n",
      "WATER: ../../data/SWED/train/images/S2A_MSIL2A_20180607T104021_N0208_R008_T31UFV_20180607T132721_image_0_41.npy\n",
      "WATER: ../../data/SWED/train/images/S2A_MSIL2A_20180607T104021_N0208_R008_T31UFV_20180607T132721_image_16_41.npy\n",
      "WATER: ../../data/SWED/train/images/S2A_MSIL2A_20180607T104021_N0208_R008_T31UFV_20180607T132721_image_23_39.npy\n",
      "WATER: ../../data/SWED/train/images/S2A_MSIL2A_20180607T104021_N0208_R008_T31UFV_20180607T132721_image_28_24.npy\n",
      "WATER: ../../data/SWED/train/images/S2A_MSIL2A_20180607T104021_N0208_R008_T31UFV_20180607T132721_image_21_28.npy\n",
      "WATER: ../../data/SWED/train/images/S2A_MSIL2A_20180607T104021_N0208_R008_T31UFV_20180607T132721_image_26_35.npy\n",
      "WATER: ../../data/SWED/train/images/S2A_MSIL2A_20180607T104021_N0208_R008_T31UFV_20180607T132721_image_19_38.npy\n",
      "WATER: ../../data/SWED/train/images/S2A_MSIL2A_20180607T104021_N0208_R008_T31UFV_20180607T132721_image_8_31.npy\n",
      "WATER: ../../data/SWED/train/images/S2A_MSIL2A_20180607T104021_N0208_R008_T31UFV_20180607T132721_image_10_34.npy\n",
      "WATER: ../../data/SWED/train/images/S2A_MSIL2A_20180607T104021_N0208_R008_T31UFV_20180607T132721_image_6_34.npy\n",
      "WATER: ../../data/SWED/train/images/S2A_MSIL2A_20180607T104021_N0208_R008_T31UFV_20180607T132721_image_17_29.npy\n",
      "WATER: ../../data/SWED/train/images/S2A_MSIL2A_20180607T104021_N0208_R008_T31UFV_20180607T132721_image_1_29.npy\n",
      "WATER: ../../data/SWED/train/images/S2A_MSIL2A_20180607T104021_N0208_R008_T31UFV_20180607T132721_image_38_21.npy\n",
      "WATER: ../../data/SWED/train/images/S2A_MSIL2A_20180607T104021_N0208_R008_T31UFV_20180607T132721_image_17_28.npy\n",
      "WATER: ../../data/SWED/train/images/S2A_MSIL2A_20180607T104021_N0208_R008_T31UFV_20180607T132721_image_6_35.npy\n",
      "WATER: ../../data/SWED/train/images/S2A_MSIL2A_20180607T104021_N0208_R008_T31UFV_20180607T132721_image_10_35.npy\n",
      "WATER: ../../data/SWED/train/images/S2A_MSIL2A_20180607T104021_N0208_R008_T31UFV_20180607T132721_image_19_39.npy\n",
      "WATER: ../../data/SWED/train/images/S2A_MSIL2A_20180607T104021_N0208_R008_T31UFV_20180607T132721_image_8_30.npy\n",
      "WATER: ../../data/SWED/train/images/S2A_MSIL2A_20180607T104021_N0208_R008_T31UFV_20180607T132721_image_24_25.npy\n",
      "WATER: ../../data/SWED/train/images/S2A_MSIL2A_20180607T104021_N0208_R008_T31UFV_20180607T132721_image_16_40.npy\n",
      "WATER: ../../data/SWED/train/images/S2A_MSIL2A_20180607T104021_N0208_R008_T31UFV_20180607T132721_image_15_39.npy\n",
      "WATER: ../../data/SWED/train/images/S2A_MSIL2A_20180607T104021_N0208_R008_T31UFV_20180607T132721_image_4_30.npy\n",
      "WATER: ../../data/SWED/train/images/S2A_MSIL2A_20180607T104021_N0208_R008_T31UFV_20180607T132721_image_12_30.npy\n",
      "WATER: ../../data/SWED/train/images/S2A_MSIL2A_20180607T104021_N0208_R008_T31UFV_20180607T132721_image_12_26.npy\n",
      "WATER: ../../data/SWED/train/images/S2A_MSIL2A_20180607T104021_N0208_R008_T31UFV_20180607T132721_image_12_32.npy\n",
      "WATER: ../../data/SWED/train/images/S2A_MSIL2A_20180607T104021_N0208_R008_T31UFV_20180607T132721_image_34_22.npy\n",
      "WATER: ../../data/SWED/train/images/S2A_MSIL2A_20180607T104021_N0208_R008_T31UFV_20180607T132721_image_24_27.npy\n",
      "WATER: ../../data/SWED/train/images/S2A_MSIL2A_20180607T104021_N0208_R008_T31UFV_20180607T132721_image_8_32.npy\n",
      "WATER: ../../data/SWED/train/images/S2A_MSIL2A_20180607T104021_N0208_R008_T31UFV_20180607T132721_image_10_37.npy\n",
      "WATER: ../../data/SWED/train/images/S2A_MSIL2A_20180607T104021_N0208_R008_T31UFV_20180607T132721_image_6_37.npy\n",
      "WATER: ../../data/SWED/train/images/S2A_MSIL2A_20180607T104021_N0208_R008_T31UFV_20180607T132721_image_6_36.npy\n",
      "WATER: ../../data/SWED/train/images/S2A_MSIL2A_20180607T104021_N0208_R008_T31UFV_20180607T132721_image_10_36.npy\n",
      "WATER: ../../data/SWED/train/images/S2A_MSIL2A_20180607T104021_N0208_R008_T31UFV_20180607T132721_image_8_27.npy\n",
      "WATER: ../../data/SWED/train/images/S2A_MSIL2A_20180607T104021_N0208_R008_T31UFV_20180607T132721_image_26_23.npy\n",
      "WATER: ../../data/SWED/train/images/S2A_MSIL2A_20180607T104021_N0208_R008_T31UFV_20180607T132721_image_24_26.npy\n",
      "WATER: ../../data/SWED/train/images/S2A_MSIL2A_20180607T104021_N0208_R008_T31UFV_20180607T132721_image_24_32.npy\n",
      "WATER: ../../data/SWED/train/images/S2A_MSIL2A_20180607T104021_N0208_R008_T31UFV_20180607T132721_image_34_23.npy\n",
      "WATER: ../../data/SWED/train/images/S2A_MSIL2A_20180607T104021_N0208_R008_T31UFV_20180607T132721_image_4_33.npy\n",
      "WATER: ../../data/SWED/train/images/S2A_MSIL2A_20180607T104021_N0208_R008_T31UFV_20180607T132721_image_12_33.npy\n",
      "WATER: ../../data/SWED/train/images/S2A_MSIL2A_20180607T104021_N0208_R008_T31UFV_20180607T132721_image_12_27.npy\n",
      "WATER: ../../data/SWED/train/images/S2A_MSIL2A_20191128T144731_N0213_R139_T20PLS_20191128T171514_image_8_15.npy\n",
      "WATER: ../../data/SWED/train/images/S2A_MSIL2A_20190718T230911_N0213_R101_T58KDB_20190719T005046_image_28_38.npy\n",
      "WATER: ../../data/SWED/train/images/S2A_MSIL2A_20191128T144731_N0213_R139_T20PLS_20191128T171514_image_8_29.npy\n",
      "WATER: ../../data/SWED/train/images/S2A_MSIL2A_20190718T230911_N0213_R101_T58KDB_20190719T005046_image_35_41.npy\n",
      "WATER: ../../data/SWED/train/images/S2A_MSIL2A_20191128T144731_N0213_R139_T20PLS_20191128T171514_image_1_19.npy\n",
      "WATER: ../../data/SWED/train/images/S2A_MSIL2A_20190718T230911_N0213_R101_T58KDB_20190719T005046_image_26_29.npy\n",
      "WATER: ../../data/SWED/train/images/S2A_MSIL2A_20191128T144731_N0213_R139_T20PLS_20191128T171514_image_19_6.npy\n",
      "WATER: ../../data/SWED/train/images/S2A_MSIL2A_20190718T230911_N0213_R101_T58KDB_20190719T005046_image_38_29.npy\n",
      "WATER: ../../data/SWED/train/images/S2A_MSIL2A_20190718T230911_N0213_R101_T58KDB_20190719T005046_image_31_25.npy\n",
      "WATER: ../../data/SWED/train/images/S2A_MSIL2A_20190718T230911_N0213_R101_T58KDB_20190719T005046_image_36_38.npy\n",
      "WATER: ../../data/SWED/train/images/S2A_MSIL2A_20190718T230911_N0213_R101_T58KDB_20190719T005046_image_31_31.npy\n",
      "WATER: ../../data/SWED/train/images/S2A_MSIL2A_20190718T230911_N0213_R101_T58KDB_20190719T005046_image_40_31.npy\n",
      "WATER: ../../data/SWED/train/images/S2A_MSIL2A_20190718T230911_N0213_R101_T58KDB_20190719T005046_image_40_25.npy\n",
      "WATER: ../../data/SWED/train/images/S2A_MSIL2A_20190718T230911_N0213_R101_T58KDB_20190719T005046_image_34_29.npy\n",
      "WATER: ../../data/SWED/train/images/S2A_MSIL2A_20190718T230911_N0213_R101_T58KDB_20190719T005046_image_33_34.npy\n",
      "WATER: ../../data/SWED/train/images/S2A_MSIL2A_20191128T144731_N0213_R139_T20PLS_20191128T171514_image_4_29.npy\n",
      "WATER: ../../data/SWED/train/images/S2A_MSIL2A_20191128T144731_N0213_R139_T20PLS_20191128T171514_image_3_20.npy\n",
      "WATER: ../../data/SWED/train/images/S2A_MSIL2A_20190718T230911_N0213_R101_T58KDB_20190719T005046_image_23_31.npy\n",
      "WATER: ../../data/SWED/train/images/S2A_MSIL2A_20191128T144731_N0213_R139_T20PLS_20191128T171514_image_12_21.npy\n",
      "WATER: ../../data/SWED/train/images/S2A_MSIL2A_20190718T230911_N0213_R101_T58KDB_20190719T005046_image_23_25.npy\n",
      "WATER: ../../data/SWED/train/images/S2A_MSIL2A_20190718T230911_N0213_R101_T58KDB_20190719T005046_image_23_30.npy\n",
      "WATER: ../../data/SWED/train/images/S2A_MSIL2A_20191128T144731_N0213_R139_T20PLS_20191128T171514_image_12_20.npy\n",
      "WATER: ../../data/SWED/train/images/S2A_MSIL2A_20190718T230911_N0213_R101_T58KDB_20190719T005046_image_39_40.npy\n",
      "WATER: ../../data/SWED/train/images/S2A_MSIL2A_20191128T144731_N0213_R139_T20PLS_20191128T171514_image_7_7.npy\n",
      "WATER: ../../data/SWED/train/images/S2A_MSIL2A_20190718T230911_N0213_R101_T58KDB_20190719T005046_image_33_35.npy\n",
      "WATER: ../../data/SWED/train/images/S2A_MSIL2A_20190718T230911_N0213_R101_T58KDB_20190719T005046_image_34_28.npy\n",
      "WATER: ../../data/SWED/train/images/S2A_MSIL2A_20190718T230911_N0213_R101_T58KDB_20190719T005046_image_40_24.npy\n",
      "WATER: ../../data/SWED/train/images/S2A_MSIL2A_20190718T230911_N0213_R101_T58KDB_20190719T005046_image_40_30.npy\n",
      "WATER: ../../data/SWED/train/images/S2A_MSIL2A_20190718T230911_N0213_R101_T58KDB_20190719T005046_image_36_39.npy\n",
      "WATER: ../../data/SWED/train/images/S2A_MSIL2A_20190718T230911_N0213_R101_T58KDB_20190719T005046_image_31_30.npy\n",
      "WATER: ../../data/SWED/train/images/S2A_MSIL2A_20190718T230911_N0213_R101_T58KDB_20190719T005046_image_31_24.npy\n",
      "WATER: ../../data/SWED/train/images/S2A_MSIL2A_20190718T230911_N0213_R101_T58KDB_20190719T005046_image_38_28.npy\n",
      "WATER: ../../data/SWED/train/images/S2A_MSIL2A_20190718T230911_N0213_R101_T58KDB_20190719T005046_image_19_25.npy\n",
      "WATER: ../../data/SWED/train/images/S2A_MSIL2A_20190614T013721_N0212_R031_T51HYE_20190614T032231_image_29_37.npy\n",
      "WATER: ../../data/SWED/train/images/S2A_MSIL2A_20191128T144731_N0213_R139_T20PLS_20191128T171514_image_1_18.npy\n",
      "WATER: ../../data/SWED/train/images/S2A_MSIL2A_20191128T144731_N0213_R139_T20PLS_20191128T171514_image_6_11.npy\n",
      "WATER: ../../data/SWED/train/images/S2A_MSIL2A_20190718T230911_N0213_R101_T58KDB_20190719T005046_image_26_28.npy\n",
      "WATER: ../../data/SWED/train/images/S2A_MSIL2A_20190718T230911_N0213_R101_T58KDB_20190719T005046_image_35_40.npy\n",
      "WATER: ../../data/SWED/train/images/S2A_MSIL2A_20190718T230911_N0213_R101_T58KDB_20190719T005046_image_28_39.npy\n",
      "WATER: ../../data/SWED/train/images/S2A_MSIL2A_20191128T144731_N0213_R139_T20PLS_20191128T171514_image_10_19.npy\n",
      "WATER: ../../data/SWED/train/images/S2A_MSIL2A_20190929T110841_N0208_R137_T30STF_20190929T114915_image_40_17.npy\n",
      "WATER: ../../data/SWED/train/images/S2A_MSIL2A_20191128T144731_N0213_R139_T20PLS_20191128T171514_image_8_14.npy\n",
      "WATER: ../../data/SWED/train/images/S2A_MSIL2A_20190929T110841_N0208_R137_T30STF_20190929T114915_image_33_38.npy\n",
      "WATER: ../../data/SWED/train/images/S2A_MSIL2A_20191128T144731_N0213_R139_T20PLS_20191128T171514_image_15_8.npy\n",
      "WATER: ../../data/SWED/train/images/S2A_MSIL2A_20191128T144731_N0213_R139_T20PLS_20191128T171514_image_1_32.npy\n",
      "WATER: ../../data/SWED/train/images/S2A_MSIL2A_20191128T144731_N0213_R139_T20PLS_20191128T171514_image_8_16.npy\n",
      "WATER: ../../data/SWED/train/images/S2A_MSIL2A_20191128T144731_N0213_R139_T20PLS_20191128T171514_image_6_13.npy\n",
      "WATER: ../../data/SWED/train/images/S2A_MSIL2A_20190929T110841_N0208_R137_T30STF_20190929T114915_image_30_41.npy\n",
      "WATER: ../../data/SWED/train/images/S2A_MSIL2A_20180607T104021_N0208_R008_T31UFV_20180607T132721_image_9_39.npy\n",
      "WATER: ../../data/SWED/train/images/S2A_MSIL2A_20180607T104021_N0208_R008_T31UFV_20180607T132721_image_13_38.npy\n",
      "WATER: ../../data/SWED/train/images/S2A_MSIL2A_20180607T104021_N0208_R008_T31UFV_20180607T132721_image_0_34.npy\n",
      "WATER: ../../data/SWED/train/images/S2A_MSIL2A_20180607T104021_N0208_R008_T31UFV_20180607T132721_image_18_25.npy\n",
      "WATER: ../../data/SWED/train/images/S2A_MSIL2A_20180607T104021_N0208_R008_T31UFV_20180607T132721_image_36_22.npy\n",
      "WATER: ../../data/SWED/train/images/S2A_MSIL2A_20180607T104021_N0208_R008_T31UFV_20180607T132721_image_8_36.npy\n",
      "WATER: ../../data/SWED/train/images/S2A_MSIL2A_20180607T104021_N0208_R008_T31UFV_20180607T132721_image_28_23.npy\n",
      "WATER: ../../data/SWED/train/images/S2A_MSIL2A_20180607T104021_N0208_R008_T31UFV_20180607T132721_image_23_28.npy\n",
      "WATER: ../../data/SWED/train/images/S2A_MSIL2A_20180607T104021_N0208_R008_T31UFV_20180607T132721_image_26_24.npy\n",
      "WATER: ../../data/SWED/train/images/S2A_MSIL2A_20180607T104021_N0208_R008_T31UFV_20180607T132721_image_31_29.npy\n",
      "WATER: ../../data/SWED/train/images/S2A_MSIL2A_20180607T104021_N0208_R008_T31UFV_20180607T132721_image_26_25.npy\n",
      "WATER: ../../data/SWED/train/images/S2A_MSIL2A_20180607T104021_N0208_R008_T31UFV_20180607T132721_image_24_34.npy\n",
      "WATER: ../../data/SWED/train/images/S2A_MSIL2A_20180607T104021_N0208_R008_T31UFV_20180607T132721_image_4_35.npy\n",
      "WATER: ../../data/SWED/train/images/S2A_MSIL2A_20180607T104021_N0208_R008_T31UFV_20180607T132721_image_34_21.npy\n",
      "WATER: ../../data/SWED/train/images/S2A_MSIL2A_20180607T104021_N0208_R008_T31UFV_20180607T132721_image_0_40.npy\n",
      "WATER: ../../data/SWED/train/images/S2A_MSIL2A_20180607T104021_N0208_R008_T31UFV_20180607T132721_image_24_33.npy\n",
      "WATER: ../../data/SWED/train/images/S2A_MSIL2A_20180607T104021_N0208_R008_T31UFV_20180607T132721_image_8_33.npy\n"
     ]
    },
    {
     "name": "stderr",
     "output_type": "stream",
     "text": [
      "Traceback (most recent call last):\n",
      "  File \"/Users/conorosullivan/opt/miniconda3/envs/pytorch/lib/python3.10/site-packages/matplotlib/cbook/__init__.py\", line 287, in process\n",
      "    func(*args, **kwargs)\n",
      "  File \"/var/folders/_j/wkrsnnnn2lj6cds3dhhlkkh40000gn/T/ipykernel_18510/3306350094.py\", line 46, in onpress\n",
      "    path = img_path[0]\n",
      "IndexError: list index out of range\n"
     ]
    }
   ],
   "source": [
    "%matplotlib tk\n",
    "global img_path \n",
    "global incorrect\n",
    "global unclear\n",
    "global checked\n",
    "global remove\n",
    "\n",
    "\n",
    "incorrect  = open(\"incorrect.txt\", \"r\").read().splitlines() #paths of images with incorrect labels \n",
    "unclear = open(\"unclear.txt\", \"r\").read().splitlines() #paths of images where it is unclear whihc is the correct label\n",
    "checked = open(\"checked.txt\", \"r\").read().splitlines() #paths of images that have been checked\n",
    "remove = open(\"remove.txt\", \"r\").read().splitlines() #paths of images that should be removed\n",
    "\n",
    "#Get all image paths with all zeros mask\n",
    "img_path = masks_0\n",
    "\n",
    "path = img_path[0]\n",
    "img, rgb_img, label = load_train(path)\n",
    "rgb1, rgb2, rgb3,rgb4 = get_rgb2(img)\n",
    "\n",
    "#min_label = np.min(label)\n",
    "#max_label = np.max(label)\n",
    "\n",
    "#Load first image and add count\n",
    "fig,axs = plt.subplots(2,2,figsize=(15,15))\n",
    "\n",
    "\n",
    "axs[0,0].imshow(rgb1)\n",
    "axs[0,1].imshow(rgb2)\n",
    "axs[1,0].imshow(rgb3)\n",
    "axs[1,1].imshow(rgb4)\n",
    "\n",
    "\"\"\"axs[1,1].imshow(label,cmap=\"BrBG\")\n",
    "axs[1,1].set_title(\"Min: {} Max: {}\".format(min_label,max_label))\n",
    "axs[1,1].text(0, 15, len(img_path),color='r',size=20)\"\"\"\n",
    "\n",
    "#Add an interactive widget to figure \n",
    "fig.canvas.mpl_connect('key_press_event', onpress)\n",
    "\n",
    "plt.show()"
   ]
  },
  {
   "cell_type": "code",
   "execution_count": 35,
   "metadata": {},
   "outputs": [
    {
     "name": "stdout",
     "output_type": "stream",
     "text": [
      "518 65 603\n"
     ]
    }
   ],
   "source": [
    "#Save names of images incorrectly labelled as land\n",
    "incorrect_names = [path.split(\"/\")[-1] for path in incorrect]\n",
    "\n",
    "with open(\"incorrect.txt\", \"w\") as f:\n",
    "    for name in incorrect_names:\n",
    "        f.write(name + \"\\n\")\n",
    "\n",
    "\"\"\"#Save names of images where it is unclear which is the correct label\n",
    "unclear_names = [path.split(\"/\")[-1] for path in unclear]\n",
    "\n",
    "with open(\"unclear.txt\", \"w\") as f:\n",
    "    for name in unclear_names:\n",
    "        f.write(name + \"\\n\")\"\"\"\n",
    "\n",
    "#Save names of images that have been checked\n",
    "checked_names = [path.split(\"/\")[-1] for path in checked]\n",
    "\n",
    "with open(\"checked.txt\", \"w\") as f:\n",
    "    for name in checked_names:\n",
    "        f.write(name + \"\\n\")\n",
    "\n",
    "remove_names = [path.split(\"/\")[-1] for path in remove]\n",
    "\n",
    "with open(\"remove.txt\", \"w\") as f:\n",
    "    for name in remove_names:\n",
    "        f.write(name + \"\\n\")\n",
    "\n",
    "print(len(incorrect),len(remove),len(checked))"
   ]
  },
  {
   "cell_type": "code",
   "execution_count": null,
   "metadata": {},
   "outputs": [],
   "source": [
    "#Recheck\n",
    "\n",
    "\n",
    "#remove\n",
    "S2A_MSIL2A_20180607T104021_N0208_R008_T31UFV_20180607T132721_image_19_24.npy\n",
    "\n",
    "\n",
    "\n",
    "#Water\n",
    "\n"
   ]
  },
  {
   "cell_type": "code",
   "execution_count": 38,
   "metadata": {},
   "outputs": [],
   "source": [
    "plot_label(\"../../data/SWED/train/images/S2A_MSIL2A_20190718T230911_N0213_R101_T58KDB_20190719T005046_image_26_29.npy\")"
   ]
  }
 ],
 "metadata": {
  "kernelspec": {
   "display_name": "pytorch",
   "language": "python",
   "name": "python3"
  },
  "language_info": {
   "codemirror_mode": {
    "name": "ipython",
    "version": 3
   },
   "file_extension": ".py",
   "mimetype": "text/x-python",
   "name": "python",
   "nbconvert_exporter": "python",
   "pygments_lexer": "ipython3",
   "version": "3.10.4"
  },
  "orig_nbformat": 4,
  "vscode": {
   "interpreter": {
    "hash": "3c0d4fcf1a0a408688084e944cab5ef64e86c1ae9800e884f9b7a2ac0ee51db6"
   }
  }
 },
 "nbformat": 4,
 "nbformat_minor": 2
}

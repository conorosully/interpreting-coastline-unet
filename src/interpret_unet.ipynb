{
 "cells": [
  {
   "cell_type": "markdown",
   "metadata": {},
   "source": [
    "# Training U-Net model for coastline semantic segmentation using PyTorch"
   ]
  },
  {
   "cell_type": "code",
   "execution_count": 82,
   "metadata": {},
   "outputs": [],
   "source": [
    "#Imports\n",
    "import numpy as np\n",
    "import pandas as pd\n",
    "\n",
    "import matplotlib.pyplot as plt\n",
    "import seaborn as sns\n",
    "\n",
    "import random\n",
    "import glob\n",
    "\n",
    "import cv2 as cv\n",
    "from PIL import Image\n",
    "from osgeo import gdal\n",
    "\n",
    "import torch \n",
    "import torch.nn as nn\n",
    "\n",
    "import torchvision\n",
    "from torchvision import transforms\n",
    "from torch.utils.data import DataLoader\n",
    "\n",
    "from train_unet import * #load dataset and model classes\n",
    "import importlib\n",
    "import utils\n",
    "\n",
    "base_path = '/Users/conorosullivan/Google Drive/My Drive/UCD/research/Interpreting UNet/'\n"
   ]
  },
  {
   "attachments": {},
   "cell_type": "markdown",
   "metadata": {},
   "source": [
    "## Load test dataset and model"
   ]
  },
  {
   "cell_type": "code",
   "execution_count": 83,
   "metadata": {},
   "outputs": [
    {
     "name": "stdout",
     "output_type": "stream",
     "text": [
      "Using device: mps\n",
      "\n"
     ]
    },
    {
     "data": {
      "text/plain": [
       "build_unet(\n",
       "  (e1): encoder_block(\n",
       "    (conv): conv_block(\n",
       "      (conv1): Conv2d(12, 32, kernel_size=(3, 3), stride=(1, 1), padding=(1, 1))\n",
       "      (bn1): BatchNorm2d(32, eps=1e-05, momentum=0.1, affine=True, track_running_stats=True)\n",
       "      (conv2): Conv2d(32, 32, kernel_size=(3, 3), stride=(1, 1), padding=(1, 1))\n",
       "      (bn2): BatchNorm2d(32, eps=1e-05, momentum=0.1, affine=True, track_running_stats=True)\n",
       "      (elu): ELU(alpha=1.0)\n",
       "    )\n",
       "    (pool): MaxPool2d(kernel_size=(2, 2), stride=(2, 2), padding=0, dilation=1, ceil_mode=False)\n",
       "  )\n",
       "  (e2): encoder_block(\n",
       "    (conv): conv_block(\n",
       "      (conv1): Conv2d(32, 64, kernel_size=(3, 3), stride=(1, 1), padding=(1, 1))\n",
       "      (bn1): BatchNorm2d(64, eps=1e-05, momentum=0.1, affine=True, track_running_stats=True)\n",
       "      (conv2): Conv2d(64, 64, kernel_size=(3, 3), stride=(1, 1), padding=(1, 1))\n",
       "      (bn2): BatchNorm2d(64, eps=1e-05, momentum=0.1, affine=True, track_running_stats=True)\n",
       "      (elu): ELU(alpha=1.0)\n",
       "    )\n",
       "    (pool): MaxPool2d(kernel_size=(2, 2), stride=(2, 2), padding=0, dilation=1, ceil_mode=False)\n",
       "  )\n",
       "  (e3): encoder_block(\n",
       "    (conv): conv_block(\n",
       "      (conv1): Conv2d(64, 128, kernel_size=(3, 3), stride=(1, 1), padding=(1, 1))\n",
       "      (bn1): BatchNorm2d(128, eps=1e-05, momentum=0.1, affine=True, track_running_stats=True)\n",
       "      (conv2): Conv2d(128, 128, kernel_size=(3, 3), stride=(1, 1), padding=(1, 1))\n",
       "      (bn2): BatchNorm2d(128, eps=1e-05, momentum=0.1, affine=True, track_running_stats=True)\n",
       "      (elu): ELU(alpha=1.0)\n",
       "    )\n",
       "    (pool): MaxPool2d(kernel_size=(2, 2), stride=(2, 2), padding=0, dilation=1, ceil_mode=False)\n",
       "  )\n",
       "  (e4): encoder_block(\n",
       "    (conv): conv_block(\n",
       "      (conv1): Conv2d(128, 256, kernel_size=(3, 3), stride=(1, 1), padding=(1, 1))\n",
       "      (bn1): BatchNorm2d(256, eps=1e-05, momentum=0.1, affine=True, track_running_stats=True)\n",
       "      (conv2): Conv2d(256, 256, kernel_size=(3, 3), stride=(1, 1), padding=(1, 1))\n",
       "      (bn2): BatchNorm2d(256, eps=1e-05, momentum=0.1, affine=True, track_running_stats=True)\n",
       "      (elu): ELU(alpha=1.0)\n",
       "    )\n",
       "    (pool): MaxPool2d(kernel_size=(2, 2), stride=(2, 2), padding=0, dilation=1, ceil_mode=False)\n",
       "  )\n",
       "  (b): conv_block(\n",
       "    (conv1): Conv2d(256, 512, kernel_size=(3, 3), stride=(1, 1), padding=(1, 1))\n",
       "    (bn1): BatchNorm2d(512, eps=1e-05, momentum=0.1, affine=True, track_running_stats=True)\n",
       "    (conv2): Conv2d(512, 512, kernel_size=(3, 3), stride=(1, 1), padding=(1, 1))\n",
       "    (bn2): BatchNorm2d(512, eps=1e-05, momentum=0.1, affine=True, track_running_stats=True)\n",
       "    (elu): ELU(alpha=1.0)\n",
       "  )\n",
       "  (d1): decoder_block(\n",
       "    (up): ConvTranspose2d(512, 256, kernel_size=(2, 2), stride=(2, 2))\n",
       "    (conv): conv_block(\n",
       "      (conv1): Conv2d(512, 256, kernel_size=(3, 3), stride=(1, 1), padding=(1, 1))\n",
       "      (bn1): BatchNorm2d(256, eps=1e-05, momentum=0.1, affine=True, track_running_stats=True)\n",
       "      (conv2): Conv2d(256, 256, kernel_size=(3, 3), stride=(1, 1), padding=(1, 1))\n",
       "      (bn2): BatchNorm2d(256, eps=1e-05, momentum=0.1, affine=True, track_running_stats=True)\n",
       "      (elu): ELU(alpha=1.0)\n",
       "    )\n",
       "  )\n",
       "  (d2): decoder_block(\n",
       "    (up): ConvTranspose2d(256, 128, kernel_size=(2, 2), stride=(2, 2))\n",
       "    (conv): conv_block(\n",
       "      (conv1): Conv2d(256, 128, kernel_size=(3, 3), stride=(1, 1), padding=(1, 1))\n",
       "      (bn1): BatchNorm2d(128, eps=1e-05, momentum=0.1, affine=True, track_running_stats=True)\n",
       "      (conv2): Conv2d(128, 128, kernel_size=(3, 3), stride=(1, 1), padding=(1, 1))\n",
       "      (bn2): BatchNorm2d(128, eps=1e-05, momentum=0.1, affine=True, track_running_stats=True)\n",
       "      (elu): ELU(alpha=1.0)\n",
       "    )\n",
       "  )\n",
       "  (d3): decoder_block(\n",
       "    (up): ConvTranspose2d(128, 64, kernel_size=(2, 2), stride=(2, 2))\n",
       "    (conv): conv_block(\n",
       "      (conv1): Conv2d(128, 64, kernel_size=(3, 3), stride=(1, 1), padding=(1, 1))\n",
       "      (bn1): BatchNorm2d(64, eps=1e-05, momentum=0.1, affine=True, track_running_stats=True)\n",
       "      (conv2): Conv2d(64, 64, kernel_size=(3, 3), stride=(1, 1), padding=(1, 1))\n",
       "      (bn2): BatchNorm2d(64, eps=1e-05, momentum=0.1, affine=True, track_running_stats=True)\n",
       "      (elu): ELU(alpha=1.0)\n",
       "    )\n",
       "  )\n",
       "  (d4): decoder_block(\n",
       "    (up): ConvTranspose2d(64, 32, kernel_size=(2, 2), stride=(2, 2))\n",
       "    (conv): conv_block(\n",
       "      (conv1): Conv2d(64, 32, kernel_size=(3, 3), stride=(1, 1), padding=(1, 1))\n",
       "      (bn1): BatchNorm2d(32, eps=1e-05, momentum=0.1, affine=True, track_running_stats=True)\n",
       "      (conv2): Conv2d(32, 32, kernel_size=(3, 3), stride=(1, 1), padding=(1, 1))\n",
       "      (bn2): BatchNorm2d(32, eps=1e-05, momentum=0.1, affine=True, track_running_stats=True)\n",
       "      (elu): ELU(alpha=1.0)\n",
       "    )\n",
       "  )\n",
       "  (outputs): Conv2d(32, 2, kernel_size=(1, 1), stride=(1, 1))\n",
       "  (sm): Softmax(dim=1)\n",
       ")"
      ]
     },
     "execution_count": 83,
     "metadata": {},
     "output_type": "execute_result"
    }
   ],
   "source": [
    "# Set device\n",
    "device = torch.device('mps')  #UPDATE\n",
    "print(\"Using device: {}\\n\".format(device))\n",
    "\n",
    "# Load saved model \n",
    "model = torch.load('../../models/UNET-SCALE-13MAR23.pth', map_location=torch.device('cpu') )\n",
    "model.eval()\n",
    "model.to(device)"
   ]
  },
  {
   "cell_type": "markdown",
   "metadata": {},
   "source": [
    "# Model evaluation"
   ]
  },
  {
   "attachments": {},
   "cell_type": "markdown",
   "metadata": {},
   "source": [
    "Model evaluation is done using the full SWED test set. This is so we can compare the evaluation results to the SWED paper. "
   ]
  },
  {
   "cell_type": "code",
   "execution_count": 84,
   "metadata": {},
   "outputs": [
    {
     "name": "stdout",
     "output_type": "stream",
     "text": [
      "98\n"
     ]
    }
   ],
   "source": [
    "# Load dataset\n",
    "def get_loader(paths):\n",
    "    TRANSFORMS = transforms.Compose([\n",
    "        transforms.Resize((256, 256)),\n",
    "        transforms.ToTensor()\n",
    "    ])\n",
    "\n",
    "    test_data = TrainDataset(paths, TRANSFORMS,incorrect=[])\n",
    "    test_loader = DataLoader(test_data, batch_size=test_data.__len__())\n",
    "\n",
    "    print(test_data.__len__())\n",
    "    return test_loader\n",
    "paths = glob.glob(\"../../data/SWED/test/images/*\")\n",
    "test_loader = get_loader(paths)"
   ]
  },
  {
   "cell_type": "code",
   "execution_count": 85,
   "metadata": {},
   "outputs": [
    {
     "name": "stdout",
     "output_type": "stream",
     "text": [
      "torch.Size([98, 2, 256, 256])\n"
     ]
    }
   ],
   "source": [
    "def get_preds(loader):\n",
    "    images, target = next(iter(loader))\n",
    "    images = images.to(device)\n",
    "\n",
    "    # Get model output\n",
    "    output = model(images)\n",
    "    print(output.shape)\n",
    "    # Get model predictions \n",
    "    targets = [np.array(t[1]) for t in target] \n",
    "\n",
    "    preds = [np.round(out) for out in output.cpu().detach()]\n",
    "    preds = [np.array(pred[1]) for pred in preds]\n",
    "\n",
    "    return images, targets, preds\n",
    "images, targets, preds = get_preds(test_loader)"
   ]
  },
  {
   "cell_type": "code",
   "execution_count": 5,
   "metadata": {},
   "outputs": [],
   "source": [
    "# Reload utils\n",
    "importlib.reload(utils)\n",
    "\n",
    "# Initialize data processor\n",
    "eval = utils.model_eval(model,images,targets,preds)"
   ]
  },
  {
   "cell_type": "code",
   "execution_count": 29,
   "metadata": {},
   "outputs": [
    {
     "name": "stdout",
     "output_type": "stream",
     "text": [
      "Average Metrics\n",
      "=================\n",
      "accuracy: 0.9375046710578763\n",
      "balanced_accuracy: 0.9158109962367549\n",
      "precision: 0.9238923114632744\n",
      "recall: 0.9548148426223934\n",
      "f1: 0.9301043811443533\n",
      "Metrics\n",
      "=================\n",
      "accuracy: 0.9375046710578763\n",
      "balanced_accuracy: 0.9341742504111827\n",
      "precision: 0.9352241050810616\n",
      "recall: 0.9571356308334965\n",
      "f1: 0.9460530118020545\n"
     ]
    },
    {
     "data": {
      "image/png": "[encoded data removed]",
      "text/plain": [
       "<Figure size 720x360 with 1 Axes>"
      ]
     },
     "metadata": {
      "needs_background": "light"
     },
     "output_type": "display_data"
    }
   ],
   "source": [
    "r_metrics, metrics = eval.eval_metrics()\n",
    "accuracy = r_metrics['accuracy']\n",
    "\n",
    "print(\"Average Metrics\\n=================\")\n",
    "for m in ['accuracy','balanced_accuracy','precision','recall','f1']:\n",
    "    print(\"{}: {}\".format(m,np.mean(r_metrics[m])))\n",
    "\n",
    "print(\"Metrics\\n=================\")\n",
    "for m in ['accuracy','balanced_accuracy','precision','recall','f1']:\n",
    "    print(\"{}: {}\".format(m,metrics[m]))\n",
    "\n",
    "\n",
    "# Plot accuracy\n",
    "plt.figure(figsize=(10,5))\n",
    "\n",
    "plt.hist(accuracy, bins=20)\n",
    "plt.xlabel(\"Accuracy\",size=20)\n",
    "plt.ylabel(\"Number of Images\",size=20)\n",
    "plt.xticks(size=15)\n",
    "plt.yticks(size=15)"
   ]
  },
  {
   "cell_type": "markdown",
   "metadata": {},
   "source": [
    "# Model interpretation"
   ]
  },
  {
   "attachments": {},
   "cell_type": "markdown",
   "metadata": {},
   "source": [
    "Model interpretation is done after removing the images below. These are were identified to contain errors. \n",
    "<br>\n",
    "../../data/SWED/test/images/S2A_MSIL2A_20190803T025551_N0213_R032_T54XWG_20190803T043943_image_0_0.tif\n",
    "<br>\n",
    "../../data/SWED/test/images/S2A_MSIL2A_20190901T101031_N0213_R022_T34VDM_20190901T130348_image_0_0.tif\n",
    "<br>\n",
    "../../data/SWED/test/images/S2A_MSIL2A_20200405T100021_N0214_R122_T34VDM_20200405T115512_image_0_0.tif\n",
    "<br>\n",
    "<br>\n"
   ]
  },
  {
   "cell_type": "code",
   "execution_count": 86,
   "metadata": {},
   "outputs": [
    {
     "name": "stdout",
     "output_type": "stream",
     "text": [
      "95\n",
      "torch.Size([95, 2, 256, 256])\n"
     ]
    }
   ],
   "source": [
    "paths = glob.glob(\"../../data/SWED/test/images/*\")\n",
    "remove =[\"../../data/SWED/test/images/S2A_MSIL2A_20190803T025551_N0213_R032_T54XWG_20190803T043943_image_0_0.tif\",\n",
    "         \"../../data/SWED/test/images/S2A_MSIL2A_20190901T101031_N0213_R022_T34VDM_20190901T130348_image_0_0.tif\",\n",
    "         \"../../data/SWED/test/images/S2A_MSIL2A_20200405T100021_N0214_R122_T34VDM_20200405T115512_image_0_0.tif\"]\n",
    "paths = [p for p in paths if p not in remove]\n",
    "test_loader = get_loader(paths)\n",
    "\n",
    "images, targets, preds = get_preds(test_loader)"
   ]
  },
  {
   "cell_type": "code",
   "execution_count": 103,
   "metadata": {},
   "outputs": [],
   "source": [
    "importlib.reload(utils)\n",
    "eval = utils.model_eval(model,images,targets,preds)"
   ]
  },
  {
   "cell_type": "markdown",
   "metadata": {},
   "source": [
    "### Average weights"
   ]
  },
  {
   "cell_type": "code",
   "execution_count": 20,
   "metadata": {},
   "outputs": [
    {
     "data": {
      "image/png": "[encoded data removed]",
      "text/plain": [
       "<Figure size 720x288 with 1 Axes>"
      ]
     },
     "metadata": {},
     "output_type": "display_data"
    }
   ],
   "source": [
    "channels_ = ['Coastal \\nAerosol','Blue','Green',\n",
    "            'Red','Red Edge 1','Red Edge 2',\n",
    "        'Red Edge 3','NIR','Red Edge 4',\n",
    "            'Water \\nVapour','SWIR 1','SWIR 2']\n",
    "\n",
    "avg_weight = eval.get_weights()\n",
    "eval.plot_importance(avg_weight,channels_,label=\"Average Weight\",save=\"avg_weight\")"
   ]
  },
  {
   "attachments": {},
   "cell_type": "markdown",
   "metadata": {},
   "source": [
    "# Permutation band importance"
   ]
  },
  {
   "cell_type": "code",
   "execution_count": 69,
   "metadata": {},
   "outputs": [
    {
     "name": "stdout",
     "output_type": "stream",
     "text": [
      "0.5653458444695724\n",
      "0.9476197895250822\n",
      "0.5938990542763158\n"
     ]
    }
   ],
   "source": [
    "# Examples \n",
    "print(eval.get_perm_accuracy(['NIR']))\n",
    "print(eval.get_perm_accuracy(['Green']))\n",
    "print(eval.get_perm_accuracy(['NIR','Green']))"
   ]
  },
  {
   "cell_type": "code",
   "execution_count": 96,
   "metadata": {},
   "outputs": [],
   "source": [
    "band_dict = {'Coastal Aerosol':0,'Blue':1,'Green':2,\n",
    "                    'Red':3,'Red Edge 1':4,'Red Edge 2':5,\n",
    "                    'Red Edge 3':6,'NIR':7,'Red Edge 4':8,\n",
    "                    'Water Vapour':9,'SWIR 1':10,'SWIR 2':11}"
   ]
  },
  {
   "cell_type": "code",
   "execution_count": 97,
   "metadata": {},
   "outputs": [],
   "source": [
    "# Add bands for permutation importance\n",
    "oringal_bands = ['Coastal Aerosol','Blue','Green',\n",
    "            'Red','Red Edge 1','Red Edge 2',\n",
    "        'Red Edge 3','NIR','Red Edge 4',\n",
    "            'Water Vapour','SWIR 1','SWIR 2']\n",
    "\n",
    "perm_bands = []\n",
    "for band in oringal_bands:\n",
    "    perm_bands.append([band])\n",
    "\n",
    "#NDWI\n",
    "perm_bands.append(['NIR','Green'])\n",
    "\n",
    "#AWEIsh\n",
    "perm_bands.append(['Blue', 'Green', 'NIR', 'SWIR 1','SWIR 2'])\n",
    "\n",
    "#WI2 \n",
    "perm_bands.append(['Blue', 'SWIR 1'])\n",
    "\n",
    "#SWI\n",
    "perm_bands.append([\"Red Edge 1\", \"SWIR 2\"])\n",
    "\n",
    "#WI2015\n",
    "perm_bands.append(['Green', 'Red', 'NIR', 'SWIR 1','SWIR 2'])\n",
    "\n",
    "#Visiable light bands \n",
    "perm_bands.append(['Blue','Green','Red'])\n",
    "\n",
    "#Not important bands\n",
    "perm_bands.append(['Coastal Aerosol', 'Green', 'Red', 'Red Edge 1','Red Edge 2','Red Edge 3','Red Edge 4','SWIR 2'])\n",
    "\n",
    "#Sense check \n",
    "for r_band in perm_bands:\n",
    "    for band in r_band: \n",
    "        try: \n",
    "            band_dict[band]\n",
    "        except:\n",
    "            print(\"ERROR: {} not in dictionary\".append(band))"
   ]
  },
  {
   "cell_type": "code",
   "execution_count": null,
   "metadata": {},
   "outputs": [],
   "source": [
    "# Calculate permutation importance\n",
    "n = 5\n",
    "rows = []\n",
    "\n",
    "accuracy = eval.get_perm_accuracy([])\n",
    "rows.append([str([]),0,accuracy])\n",
    "\n",
    "for bands in perm_bands:\n",
    "    print(bands,end=\" \")\n",
    "    for i in range(n):\n",
    "        accuracy = eval.get_perm_accuracy(bands)\n",
    "        row = [str(bands),i,accuracy] \n",
    "        rows.append(row)\n",
    "\n",
    "        print(i,end=\" \")\n",
    "\n",
    "    print()\n",
    "    \n",
    "df_metrics = pd.DataFrame(rows,columns = ['Bands',\"Perm\",\"Accuracy\"])\n",
    "df_metrics.to_csv(base_path+ 'Metrics_28MAR23.csv',index=False)\n",
    "df_metrics.head()"
   ]
  },
  {
   "cell_type": "code",
   "execution_count": 104,
   "metadata": {},
   "outputs": [
    {
     "name": "stdout",
     "output_type": "stream",
     "text": [
      "Coastal \n",
      "Aerosol -0.21\n",
      "Blue 0.19\n",
      "Green -0.1\n",
      "Red -0.1\n",
      "Red Edge 1 -0.17\n",
      "Red Edge 2 -0.27\n",
      "Red Edge 3 -0.39\n",
      "NIR 38.12\n",
      "Red Edge 4 -0.44\n",
      "Water \n",
      "Vapour 2.58\n",
      "SWIR 1 0.78\n",
      "SWIR 2 -0.38\n"
     ]
    },
    {
     "data": {
      "image/png": "[encoded data removed]",
      "text/plain": [
       "<Figure size 720x288 with 1 Axes>"
      ]
     },
     "metadata": {},
     "output_type": "display_data"
    }
   ],
   "source": [
    "# Plot permutation importance for individual bands\n",
    "df_metrics = pd.read_csv(base_path+ 'Metrics_28MAR23.csv')\n",
    "mean = df_metrics[['Bands','Accuracy']].groupby([\"Bands\"], sort=False ).mean().reset_index()\n",
    "\n",
    "orginal_accuracy = mean['Accuracy'].values[0]\n",
    "bands = mean['Accuracy'].values[1:13]\n",
    "importance = [(orginal_accuracy-b)*100 for b in bands]\n",
    "\n",
    "for i,imp in enumerate(importance):\n",
    "    print(channels_[i],np.round(imp,2))\n",
    "\n",
    "eval.plot_importance(importance,channels_,label=\"Importance (Log scale)\",save=\"Perm_importance\")"
   ]
  },
  {
   "cell_type": "code",
   "execution_count": 105,
   "metadata": {},
   "outputs": [
    {
     "name": "stdout",
     "output_type": "stream",
     "text": [
      "NIR 38.12\n",
      "NDWI 35.28\n",
      "AWEIsh 39.2\n",
      "WI2 0.46\n",
      "SWI -0.34\n",
      "WI2015 42.98\n",
      "Visible\n",
      " Light 0.25\n",
      "Not\n",
      " Important -0.47\n"
     ]
    },
    {
     "data": {
      "image/png": "[encoded data removed]",
      "text/plain": [
       "<Figure size 720x288 with 1 Axes>"
      ]
     },
     "metadata": {},
     "output_type": "display_data"
    }
   ],
   "source": [
    "# Plot permutation importance for combination of bands\n",
    "orginal_accuracy = mean['Accuracy'].values[0]\n",
    "bands = mean['Accuracy'].values[np.r_[8,13:20]] \n",
    "importance = [(orginal_accuracy-b)*100 for b in bands]\n",
    "\n",
    "indices = ['NIR','NDWI','AWEIsh','WI2','SWI','WI2015','Visible\\n Light', 'Not\\n Important']\n",
    "\n",
    "for i,imp in enumerate(importance):\n",
    "    print(indices[i],np.round(imp,2))\n",
    "\n",
    "eval.plot_importance(importance,indices,label=\"Importance (Log scale)\",save=\"Perm_importance_indices\")"
   ]
  },
  {
   "cell_type": "code",
   "execution_count": null,
   "metadata": {},
   "outputs": [],
   "source": []
  }
 ],
 "metadata": {
  "kernelspec": {
   "display_name": "pytorch",
   "language": "python",
   "name": "python3"
  },
  "language_info": {
   "codemirror_mode": {
    "name": "ipython",
    "version": 3
   },
   "file_extension": ".py",
   "mimetype": "text/x-python",
   "name": "python",
   "nbconvert_exporter": "python",
   "pygments_lexer": "ipython3",
   "version": "3.10.4"
  },
  "orig_nbformat": 4,
  "vscode": {
   "interpreter": {
    "hash": "3c0d4fcf1a0a408688084e944cab5ef64e86c1ae9800e884f9b7a2ac0ee51db6"
   }
  }
 },
 "nbformat": 4,
 "nbformat_minor": 2
}
